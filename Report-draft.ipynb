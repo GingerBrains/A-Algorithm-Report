{
  "cells": [
    {
      "cell_type": "markdown",
      "id": "4e97f983",
      "metadata": {
        "id": "4e97f983"
      },
      "source": [
        "## Guide for report structure\n",
        "\n",
        "The structure of your report should be as follows (or very similar):\n",
        "\n",
        "1. Author contributions\n",
        "    - Clearly list who wrote what parts of the report\n",
        "1. Introduction\n",
        "   - Motivate the importance of your application (science, market, societal impact, etc.)\n",
        "   - Reference relevant literature and background knowledge\n",
        "2. Algorithm design\n",
        "   - Describe (in your own words) how the algorithm works\n",
        "   - Explain how the algorithm compares to related algorithms\n",
        "2. Algorithm demonstration\n",
        "   - Show that the algorithm works on multiple examples\n",
        "3. Conclusions\n",
        "4. References\n",
        "5. Appendix\n",
        "   - Include your code for algorithm implementation, generating of figures, etc.\n",
        "\n",
        "The report may be written in LaTeX or as a Jupyter notebook."
      ]
    },
    {
      "cell_type": "markdown",
      "id": "1c600c72",
      "metadata": {
        "id": "1c600c72"
      },
      "source": [
        "###########################################################################################"
      ]
    },
    {
      "cell_type": "markdown",
      "id": "3b84fca5",
      "metadata": {
        "id": "3b84fca5"
      },
      "source": [
        "# 1. Author Contributions\n",
        "Douglas, Laurel, and Jiaxue worked together to construct this report on the A* Path Searching algorithm, with each member concentrating on specific parts:\n",
        "Douglas (123117910): Wrote the Introduction, which established the A* algorithm's significance and context.\n",
        "Laurel (123103884): wrote the section on algorithm design, which described how A* functions.\n",
        "Jiaxue (123117138): Highlighted the Algorithm Demonstration with real-world examples.\n",
        "Every input was crucial to producing a thorough report  of the A* algorithm.\n",
        "\n",
        "1. Author contributions (Douglas)\n",
        "2. Introduction (Douglas)\n",
        "3. Algorithm design (Laurel)\n",
        "4. Algorithm demonstration (Jiaxue)\n",
        "5. Conclusions (Everyone)\n",
        "6. References (Everyone)\n",
        "7. Appendix\n",
        "\n"
      ]
    },
    {
      "cell_type": "markdown",
      "id": "dd6ede52",
      "metadata": {
        "id": "dd6ede52"
      },
      "source": [
        "# 2. Introduction\n",
        "\n",
        "## 2.1. Background\n",
        "\n",
        "In the vast field of computer science including open source infrastructure, A* or A-star is a path search and graph traversal algorithm. It was created as part of the Shakey project  by Nils Nilsson, Peter Hart and  Bertram Rapheal [1]\n",
        "\n",
        "Within the field of pathfinding and graph traversal algorithms, the A* (A-star) algorithm is a fundamental tool in the constantly changing field of computational problem-solving. Since its creation in 1968 [2], A* has been an essential tool in a wide range of applications, from robotics and real-world route planning to artificial intelligence in gaming[3]. Its continued relevance highlights the algorithm's effectiveness and versatility as well as its significant influence on the scientific community and society at large.\n",
        "The main innovation of the A* algorithm is its heuristic-based search strategy, which enables it to efficiently determine the shortest path between two points[1].\n",
        "\n",
        "<br/><br/>\n",
        "## 2.2 Applications\n",
        "\n",
        "With its ability to predict the direction of the target, this approach significantly outperforms its predecessors, such as Dijkstra's algorithm, and speeds up the search process. This advancement has far-reaching effects on everyday life.  The A* algorithm has been crucial to the development of video games in the fields of computer science and artificial intelligence, especially in the areas of non-player character (NPC) movement and decision-making[4]. Its use goes beyond virtual environments; it is crucial for robotics, particularly in autonomous vehicle navigation such as the mars rover[1], where finding the shortest path is  important.\n",
        "Furthermore, the A* algorithm has an impact on society in addition to technological applications. For example, it helps to optimise traffic flow and public transit routes in urban planning and transportation, which has a direct impact on urban logistics and daily commutes[5]. The algorithm's value to society is further shown by its application in emergency response and catastrophe management, where quick and effective route design can save lives [6].\n",
        "The broad and varied literature that surrounds the A* algorithm reflects the multidisciplinary applications of the method.\n",
        "\n",
        "<br/><br/>\n",
        "## 2.3. Related Works\n",
        "The theoretical basis for the algorithm was established in its original 1968 paper \"A Formal Basis for the Heuristic Determination of Minimum Cost Paths\" by Hart, Nilsson, and Raphael[2]. Its fundamental ideas have been built upon by further research and publications, which have also optimised and modified it for a variety of particular uses, such as real-time navigation systems and AI in video games[2][6].\n",
        "\n",
        "<br/><br/>\n",
        "## 2.4. Aim and Objective\n",
        "As we explore the complexities of the A* algorithm, it is important to recognise its fundamental significance in the advancement of technology as well as its practical applications that are relevant to our everyday lives. In addition to analysing the algorithm's workings, this report will shed light on its wide-ranging ramifications, demonstrating why, more than fifty years after its creation, A* remains a crucial instrument at the crossroads of computer science, technology, and society.\n",
        "\n"
      ]
    },
    {
      "cell_type": "markdown",
      "id": "fa168238",
      "metadata": {
        "id": "fa168238"
      },
      "source": [
        "# 3. Algorithm\n",
        "\n",
        "## 3.1. Design\n",
        "\n",
        "The A* algorithm works in way to enable a computer to find the shortest path from one point to another.\n",
        "\n",
        "Map Representation: Think of a map divided into squares or nodes. Each node represents a point on the map.\n",
        "\n",
        "\n",
        "Start and Destination: You have a starting point (where you are) and a destination (where you want to go).\n",
        "\n",
        "\n",
        "Exploration: A* starts at the beginning and explores neighboring nodes, trying to find the best path to the destination. It keeps track of the total distance traveled from the start and an estimate of the remaining distance to the destination for each node.\n",
        "\n",
        "\n",
        "Cost Evaluation: For each node, A* calculates two values:\n",
        "G-Score: The actual cost from the start node to the current node.\n",
        "H-Score: An estimate of the cost from the current node to the destination (heuristic).\n",
        "\n",
        "\n",
        "Priority Queue: Nodes are sorted based on a combined value of G-Score and H-Score. A* prioritizes nodes with the lowest combined score, thinking they might lead to the shortest path.\n",
        "\n",
        "\n",
        "Pathfinding: A* moves through the nodes, considering the combination of the G-Score and H-Score. It continuously selects the node with the lowest total estimated cost and explores its neighbors.\n",
        "\n",
        "\n",
        "Goal Reached: A* continues this process until it reaches the destination node. The path it took to get there forms the shortest route.\n",
        "\n",
        "\n",
        "The A* algorithm balances efficiency by intelligently choosing nodes to explore. The H-Score helps guide the search towards the destination, while the G-Score ensures it takes the shortest path found so far.\n",
        "This way, A* doesn't blindly search everywhere but uses information about the goal to find an optimal path more quickly than searching aimlessly. It's like having a GPS that intelligently evaluates different routes to find the fastest one for your road trip!\n",
        "\n",
        "\n",
        "\n",
        "\n",
        "\n"
      ]
    },
    {
      "cell_type": "markdown",
      "id": "faab42de",
      "metadata": {
        "id": "faab42de"
      },
      "source": [
        "## Implementation of A*"
      ]
    },
    {
      "cell_type": "code",
      "execution_count": 2,
      "id": "706313a3",
      "metadata": {
        "id": "706313a3",
        "outputId": "ba5d593b-d361-42d0-8326-ddf4a13f6d68",
        "colab": {
          "base_uri": "https://localhost:8080/"
        }
      },
      "outputs": [
        {
          "output_type": "stream",
          "name": "stdout",
          "text": [
            "[[[-1 -1]\n",
            "  [-1 -1]\n",
            "  [-1 -1]\n",
            "  [-1 -1]]\n",
            "\n",
            " [[-1 -1]\n",
            "  [-1 -1]\n",
            "  [-1 -1]\n",
            "  [-1 -1]]\n",
            "\n",
            " [[-1 -1]\n",
            "  [-1 -1]\n",
            "  [-1 -1]\n",
            "  [-1 -1]]\n",
            "\n",
            " [[-1 -1]\n",
            "  [-1 -1]\n",
            "  [-1 -1]\n",
            "  [-1 -1]]]\n",
            "Path found: [[0 0]\n",
            " [0 1]\n",
            " [0 2]]\n"
          ]
        }
      ],
      "source": [
        "import numpy as np\n",
        "\n",
        "def heuristic(a, b):\n",
        "    # Euclidean distance heuristic for A*\n",
        "    return np.sqrt((b[0] - a[0])**2 + (b[1] - a[1])**2)\n",
        "\n",
        "def astar(array, start, goal):\n",
        "    #Defines the possible movements from a node: up, down, left, and right.\n",
        "    neighbors = [(-1, 0), (1, 0), (0, -1), (0, 1)]\n",
        "\n",
        "    #Lists to keep track of nodes that are yet to be explored (open_nodes) and nodes that have been explored (closed_nodes).\n",
        "    open_nodes = [start]\n",
        "    closed_nodes = []\n",
        "\n",
        "    #Initializes the cost array with infinite values (np.inf) and sets the cost of the start node to zero.\n",
        "    cost = np.full(array.shape, fill_value=np.inf)\n",
        "    cost[start] = 0\n",
        "\n",
        "    #Initialize a new array to store path\n",
        "    came_from = np.full(array.shape + (2,), fill_value=-1)\n",
        "\n",
        "    #The main loop of the A* algorithm runs until there are no nodes left to explore (open_nodes is empty).\n",
        "    while open_nodes:\n",
        "        # Sort open nodes based on total estimated cost\n",
        "        open_nodes.sort(key=lambda x: cost[x] + heuristic(goal, x))\n",
        "        current_node = open_nodes.pop(0)\n",
        "\n",
        "        #If the current node is the goal, the function reconstructs and returns the path from the goal back to the start.\n",
        "        if current_node == goal:\n",
        "            path = []\n",
        "            while not np.array_equal(current_node, start):\n",
        "                path.append(current_node)\n",
        "                current_node = came_from[current_node[0], current_node[1]]\n",
        "            path.append(start)\n",
        "            return np.array(path[::-1])\n",
        "\n",
        "        #Adds the current node to the closed_nodes list to mark it as explored.\n",
        "        closed_nodes.append(current_node)\n",
        "\n",
        "        #Iterates through the possible neighbors of the current node.\n",
        "        for neighbor in neighbors:\n",
        "            new_node = (current_node[0] + neighbor[0], current_node[1] + neighbor[1])\n",
        "\n",
        "            #Ensures the new node is within the grid boundaries.\n",
        "            if 0 <= new_node[0] < array.shape[0] and 0 <= new_node[1] < array.shape[1]:\n",
        "                #Calculates the cost to reach the new node from the current node.\n",
        "                new_cost = cost[current_node] + array[new_node]\n",
        "\n",
        "\n",
        "                #Skips the current neighbor if it has already been explored or represents an obstacle (value infinity in the grid).\n",
        "                if new_node in closed_nodes or array[new_node] == np.inf:\n",
        "                    continue\n",
        "\n",
        "                #Updates the cost to reach the new node, adds it to the open_nodes, and records the path taken to reach this node.\n",
        "                if new_cost < cost[new_node]:\n",
        "                    cost[new_node] = new_cost\n",
        "                    open_nodes.append(new_node)\n",
        "                    came_from[new_node[0], new_node[1]] = current_node\n",
        "\n",
        "    #If no path is found, the function returns None.\n",
        "    return None  # No path found\n",
        "\n",
        "# Replace 'np.inf' with weights, and 0s for obstacles if any\n",
        "l=np.inf\n",
        "grid = np.array([\n",
        "    [0, 2, 0, 0],\n",
        "    [0, l, l, 0],\n",
        "    [0, 0, l, 0],\n",
        "    [0, 0, 0, 0]\n",
        "])\n",
        "\n",
        "start_point = (0, 0)\n",
        "goal_point = (0, 2)\n",
        "\n",
        "path = astar(grid, start_point, goal_point)\n",
        "if path is not None:\n",
        "    print(\"Path found:\", path)\n",
        "\n",
        "else:\n",
        "    print(\"No path found\")\n"
      ]
    },
    {
      "cell_type": "markdown",
      "id": "00692850",
      "metadata": {
        "id": "00692850"
      },
      "source": [
        "## 3.2. Performance of A* compared with other path finding algorithms\n",
        "\n",
        "### 3.2.1. A* Vs Breadth First Search\n",
        "BFS aims at systematically exploring all neighbors of a node before moving on to the next level of nodes in a graph.\n",
        "\n",
        "While BFS guarantees the shortest path in unweighted graphs, A* balances between optimality and efficiency by utilizing heuristics, often outperforming BFS in scenarios with informed goals or weighted graphs. A* leverages heuristics to guide the search, making it faster in targeted pathfinding. BFS explores uniformly, taking significantly longer as it explores all neighbouring nodes before moving on to the next layer[7].\n",
        "A* is better tha BFS in almost all cases. There might be some exceptions to this depending upon the requirements of the problem statement[7].\n",
        "\n",
        "\n",
        "<br/><br/>\n",
        "### 3.2.2. A* Vs Dijkstra’s algorithm\n",
        "Dijkstra’s algorithm finds the shortest path from a single source node to all other nodes in a weighted graph.\n",
        "\n",
        "A* is an evolution of Dijkstra's algorithm[8]. Dijkstra's guarantees optimality in finding the shortest path to all nodes, while A* focuses on finding the shortest path to a specific target node efficiently. In scenarios where the heuristic is well-designed and effective, A* tends to outperform Dijkstra's algorithm by reducing the number of nodes to explore[8]. A* can be implemented on an infinite graph whereas Dijkstra cannot[9].\n",
        "\n",
        "Constraints:\n",
        "\n",
        "Pathfinding to All Nodes: Dijkstra's algorithm inherently finds the shortest path from a single source node to all other nodes in the graph. If the requirement is to determine the shortest paths from one node to all other nodes without having a specific target node in mind, Dijkstra's algorithm is more suitable. A* is optimized for finding the shortest path to a specific target node, making it less efficient in scenarios where the goal is not predetermined.\n",
        "\n",
        "Avoiding Heuristic-Induced Errors: It might not be possible to calculate a good heuristic function for some cases. In such a situation it is better to not use a heuristic requiring algorithm (A*) as it will increase the computation overhead without offering any advantage."
      ]
    },
    {
      "cell_type": "markdown",
      "id": "ddeebd2d",
      "metadata": {
        "id": "ddeebd2d"
      },
      "source": [
        "# 4. Algorithm demonstration\n",
        "To demonstrate the effectiveness of the A* algorithm implemented in the code, there are three scenarios using both self-made fake data and real-world examples as follows. These scenarios will illustrate how the algorithm finds the shortest path in different types of grids, which represent various real-world situations such as road networks, mazes, or game maps. To make it clearer, we utilize matplotlib to plot the picture.\n"
      ]
    },
    {
      "cell_type": "code",
      "source": [
        "# Visualization Function\n",
        "import matplotlib.pyplot as plt\n",
        "\n",
        "def visualize_path(grid, path, start, goal):\n",
        "    plt.imshow(grid, cmap='gray')\n",
        "    if path is not None:\n",
        "        path = np.array(path)\n",
        "        plt.scatter(path[:, 1], path[:, 0], color='blue')\n",
        "    plt.scatter(start[1], start[0], color='green') # Start in Green\n",
        "    plt.scatter(goal[1], goal[0], color='red') # Goal in Red\n",
        "    plt.show()"
      ],
      "metadata": {
        "id": "0wgBD-j8ySMG"
      },
      "id": "0wgBD-j8ySMG",
      "execution_count": null,
      "outputs": []
    },
    {
      "cell_type": "markdown",
      "source": [
        "### Example 1: Simple Grid\n",
        "Consider that there's a simple 5×5 grid where some cells are blocked, and the goal is to find the shortest path from the top-left corner to the bottom-right corner. This example use self-made data. The path found by the A* algorithm is marked in blue. The start and goal points are marked in green and red, respectively. Obstacles (unpassable cells) are represented in black. The algorithm successfully navigates around the obstacles to find the shortest path. Code as follows:\n"
      ],
      "metadata": {
        "id": "pVN3nh3gyXDh"
      },
      "id": "pVN3nh3gyXDh"
    },
    {
      "cell_type": "code",
      "source": [
        "grid1 = np.array([\n",
        "    [1, 1, 1, 1, 1],\n",
        "    [1, np.inf, np.inf, np.inf, 1],\n",
        "    [1, 1, 1, np.inf, 1],\n",
        "    [np.inf, np.inf, 1, np.inf, 1],\n",
        "    [1, 1, 1, 1, 1]\n",
        "])\n",
        "start1 = (0, 0)\n",
        "goal1 = (4, 4)\n",
        "path1 = astar(grid1, start1, goal1)\n",
        "\n",
        "visualize_path(grid1, path1, start1, goal1)"
      ],
      "metadata": {
        "colab": {
          "base_uri": "https://localhost:8080/",
          "height": 430
        },
        "id": "b32Fqp1pwIQf",
        "outputId": "37fdc256-b7ca-4bcd-9429-2e69c5d1c142"
      },
      "id": "b32Fqp1pwIQf",
      "execution_count": null,
      "outputs": [
        {
          "output_type": "display_data",
          "data": {
            "text/plain": [
              "<Figure size 640x480 with 1 Axes>"
            ],
            "image/png": "[encoded data removed]"
          },
          "metadata": {}
        }
      ]
    },
    {
      "cell_type": "markdown",
      "source": [
        "### Example 2: Maze Solving\n",
        "Consider that there's a 10×10 maze where the goal is to find a path from top-right corner to the bottom-right corner.This example use self-made data. The path is marked in blue, with the start and goal points in green and red. The algorithm effectively finds a path through the maze, demonstrating its ability to handle more complex grid layouts with numerous obstacles.\n"
      ],
      "metadata": {
        "id": "N8tWZWQewfyS"
      },
      "id": "N8tWZWQewfyS"
    },
    {
      "cell_type": "code",
      "source": [
        "grid2 = np.array([\n",
        "    [1, 1, 1, np.inf, 1, 1, 1, 1, 1, 1],\n",
        "    [1, np.inf, 1, np.inf, 1, np.inf, np.inf, np.inf, np.inf, 1],\n",
        "    [1, np.inf, 1, np.inf, 1, 1, 1, 1, 1, 1],\n",
        "    [1, np.inf, 1, np.inf, np.inf, np.inf, 1, np.inf, np.inf, 1],\n",
        "    [1, np.inf, 1, 1, 1, 1, 1, 1, np.inf, 1],\n",
        "    [1, np.inf, np.inf, np.inf, np.inf, np.inf, 1, np.inf, np.inf, 1],\n",
        "    [1, 1, 1, 1, 1, 1, 1, 1, 1, 1],\n",
        "    [1, np.inf, np.inf, np.inf, np.inf, np.inf, np.inf, np.inf, 1, np.inf],\n",
        "    [1, 1, 1, 1, 1, 1, 1, 1, 1, 1],\n",
        "    [np.inf, np.inf, np.inf, np.inf, np.inf, np.inf, np.inf, np.inf, 1, 1]\n",
        "])\n",
        "start2 = (0, 0)\n",
        "goal2 = (9, 9)\n",
        "path2 = astar(grid2, start2, goal2)\n",
        "\n",
        "visualize_path(grid2, path2, start2, goal2)"
      ],
      "metadata": {
        "colab": {
          "base_uri": "https://localhost:8080/",
          "height": 430
        },
        "id": "wK-B7KE_wjYa",
        "outputId": "82f3abec-5d01-4980-dddf-c1399bc67b3e"
      },
      "id": "wK-B7KE_wjYa",
      "execution_count": null,
      "outputs": [
        {
          "output_type": "display_data",
          "data": {
            "text/plain": [
              "<Figure size 640x480 with 1 Axes>"
            ],
            "image/png": "[encoded data removed]"
          },
          "metadata": {}
        }
      ]
    },
    {
      "cell_type": "markdown",
      "source": [
        "### Example 3: Game Scene\n",
        "In this example, a game map is created, which contains different terrain types, such as plains, mountains, rivers, and forests, each with different passing costs. This will bring the application of the A* algorithm closer to what would happen in an actual game or simulation environment. The grid size is 20x20.\n",
        "\n",
        "The terrain types include: plains (low cost), mountains (high cost), rivers (medium cost), forests (slightly high cost), and roads (very low cost). The starting point is the upper left corner (0,0) and the end point is the lower right corner (19,19)."
      ],
      "metadata": {
        "id": "cAvNUzhszBcY"
      },
      "id": "cAvNUzhszBcY"
    },
    {
      "cell_type": "code",
      "source": [
        "# Define the costs for different terrains\n",
        "TERRAIN_COST = {\n",
        "    'plain': 1,   # Plains\n",
        "    'mountain': 5,  # Mountains\n",
        "    'river': 2,   # Rivers\n",
        "    'forest': 3,  # Forests\n",
        "    'road': 0.5   # Roads\n",
        "}\n",
        "\n",
        "# Creating a terrain grid\n",
        "grid_size = 20\n",
        "terrain_grid = np.random.choice(list(TERRAIN_COST.values()), size=(grid_size, grid_size))\n",
        "\n",
        "# Define the start and end points\n",
        "start = (0, 0)\n",
        "goal = (grid_size - 1, grid_size - 1)\n",
        "\n",
        "# Executing the A* algorithm\n",
        "path = astar(terrain_grid, start, goal)\n",
        "\n",
        "# Rewrite Visualization function\n",
        "def visualize_terrain_path(grid, path, start, goal):\n",
        "    plt.imshow(grid, cmap='viridis', interpolation='nearest')\n",
        "    if path is not None:\n",
        "        ys, xs = zip(*path)\n",
        "        plt.plot(xs, ys, color='blue', linewidth=2)\n",
        "    plt.scatter([start[1]], [start[0]], color='green', marker='s')  # Start point\n",
        "    plt.scatter([goal[1]], [goal[0]], color='red', marker='s')  # End point\n",
        "    plt.colorbar(label='Terrain Cost')\n",
        "    plt.title('A* Path Finding on Varied Terrain')\n",
        "    plt.show()\n",
        "\n",
        "# Display the visualization\n",
        "visualize_terrain_path(terrain_grid, path, start, goal)"
      ],
      "metadata": {
        "colab": {
          "base_uri": "https://localhost:8080/",
          "height": 452
        },
        "id": "dqdiV0FmzxOc",
        "outputId": "7ef3c0ed-c5d7-4576-a2bf-6b08ec6c8438"
      },
      "id": "dqdiV0FmzxOc",
      "execution_count": null,
      "outputs": [
        {
          "output_type": "display_data",
          "data": {
            "text/plain": [
              "<Figure size 640x480 with 2 Axes>"
            ],
            "image/png": "[encoded data removed]"
          },
          "metadata": {}
        }
      ]
    },
    {
      "cell_type": "markdown",
      "id": "8c8be0e9",
      "metadata": {
        "id": "8c8be0e9"
      },
      "source": [
        "# 5. Conclusion\n"
      ]
    },
    {
      "cell_type": "markdown",
      "id": "8ac0e4d4",
      "metadata": {
        "id": "8ac0e4d4"
      },
      "source": [
        "# 6. References\n",
        "\n",
        "[1.] ETHW. Milestones:shakey: The World’s First Mobile Intelligent Robot, 1972. ETHW [online]. 20 November 2023. [Accessed 24 November 2023]. Available from: https://ethw.org/Milestones%3ASHAKEY%3A_The_World%E2%80%99s_First_Mobile_Intelligent_Robot%2C_1972\n",
        "\n",
        "[2.] HART, Peter, NILSSON, Nils and RAPHAEL, Bertram. A formal basis for the heuristic determination of minimum cost paths. IEEE Transactions on Systems Science and Cybernetics. 1968. Vol. 4, no. 2, p. 100–107. DOI 10.1109/tssc.1968.300136.\n",
        "\n",
        "[3.] MATHEW, Geethu Elizebeth and MALATHY, G. Direction based heuristic for Pathfinding in Video Games. 2015 2nd International Conference on Electronics and Communication Systems (ICECS). 2015. DOI 10.1109/ecs.2015.7124867.\n",
        "\n",
        "[4.] MATHEW, Geethu Elizebeth. Direction based heuristic for Pathfinding in Video Games. Procedia Computer Science. 2015. Vol. 47, p. 262–271. DOI 10.1016/j.procs.2015.03.206.\n",
        "\n",
        "[5.]Traffic prediction framework gets the green light. A*STAR Research [online]. 8 August 2023. [Accessed 24 November 2023]. Available from: https://research.a-star.edu.sg/articles/highlights/traffic-prediction-framework-gets-the-green-light/\n",
        "\n",
        "[6.] MANTORO, Teddy, ALAMSYAH, Zaenal and AYU, Media Anugerah. Pathfinding for disaster emergency route using sparse A* and dijkstra algorithm with augmented reality. 2021 IEEE 7th International Conference on Computing, Engineering and Design (ICCED). 2021. DOI 10.1109/icced53389.2021.9664869.\n",
        "\n",
        "[7.]Permana, Silvester & Bintoro, Ketut & Arifitama, Budi & Syahputra, Ade. (2018). Comparative Analysis of Pathfinding Algorithms A *, Dijkstra, and BFS on Maze Runner Game. IJISTECH (International Journal Of Information System & Technology). 1. 1. 10.30645/ijistech.v1i2.7. Available from https://www.researchgate.net/publication/325368698_Comparative_Analysis_of_Pathfinding_Algorithms_A_Dijkstra_and_BFS_on_Maze_Runner_Game\n",
        "\n",
        "[8.]Zidane, Issa & Ibrahim, Khalil. (2018). Wavefront and A-Star Algorithms for Mobile Robot Path Planning. 69-80. 10.1007/978-3-319-64861-3_7. Available from : https://www.researchgate.net/publication/319404402_Wavefront_and_A-Star_Algorithms_for_Mobile_Robot_Path_Planning\n",
        "\n",
        "[9.]Dijkstra vs. A* – Pathfinding, by Milos Simic. Available from : https://www.baeldung.com/cs/dijkstra-vs-a-pathfinding\n"
      ]
    },
    {
      "cell_type": "markdown",
      "id": "9e36eacf",
      "metadata": {
        "id": "9e36eacf"
      },
      "source": [
        "# 7. Appendix"
      ]
    }
  ],
  "metadata": {
    "kernelspec": {
      "display_name": "Python 3 (ipykernel)",
      "language": "python",
      "name": "python3"
    },
    "language_info": {
      "codemirror_mode": {
        "name": "ipython",
        "version": 3
      },
      "file_extension": ".py",
      "mimetype": "text/x-python",
      "name": "python",
      "nbconvert_exporter": "python",
      "pygments_lexer": "ipython3",
      "version": "3.11.5"
    },
    "colab": {
      "provenance": []
    }
  },
  "nbformat": 4,
  "nbformat_minor": 5
}